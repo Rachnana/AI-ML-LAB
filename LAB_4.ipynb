{
 "cells": [
  {
   "cell_type": "code",
   "execution_count": 11,
   "id": "21cff5b8",
   "metadata": {},
   "outputs": [
    {
     "name": "stdout",
     "output_type": "stream",
     "text": [
      "['Outlook', 'Temperature', 'Humidity', 'Windy']\n",
      "Outlook IG : 0.2467498197744391\n",
      "Temperature IG : 0.029222565658954647\n",
      "Humidity IG : 0.15183550136234136\n",
      "Windy IG : 0.04812703040826927\n",
      "Temperature IG : 0.01997309402197489\n",
      "Humidity IG : 0.01997309402197489\n",
      "Windy IG : 0.9709505944546686\n",
      "Temperature IG : 0.5709505944546686\n",
      "Humidity IG : 0.9709505944546686\n",
      "Windy IG : 0.01997309402197489\n",
      "\n",
      "\n",
      "Resultant Tree is : \n",
      "{'Outlook': {'Overcast': 'yes',\n",
      "             'Rainy': {'Windy': {False: 'yes', True: 'no'}},\n",
      "             'Sunny': {'Humidity': {'High': 'no', 'Normal': 'yes'}}}}\n"
     ]
    }
   ],
   "source": [
    "import pandas as pd\n",
    "from collections import Counter\n",
    "import math\n",
    "from pprint import pprint\n",
    "\n",
    "df_tennis = pd.read_csv(\"p-tennis.csv\")\n",
    "attribute_names = list(df_tennis.columns)\n",
    "attribute_names.remove(\"PlayTennis\")\n",
    "print(attribute_names)\n",
    "\n",
    "def entropy_of_list(lst):\n",
    "    count = Counter(x for x in lst)\n",
    "    num_instances = len(lst)*1\n",
    "    probs = [x/num_instances for x in count.values()]\n",
    "    return entropy(probs)\n",
    "\n",
    "def entropy(probs):\n",
    "    return sum([-prob*math.log(prob,2) for prob in probs])\n",
    "\n",
    "def info_gain(df,split_attribute,target_attribute):\n",
    "    df_split = df.groupby(split_attribute)\n",
    "    nobs = len(df.index)*1\n",
    "    df_agg = df_split.agg({target_attribute:[entropy_of_list,lambda x:len(x)/nobs]})\n",
    "    df_agg.columns = ['Entropy','propobservations']\n",
    "    new  = sum(df_agg['Entropy'] * df_agg['propobservations'])\n",
    "    old = entropy_of_list(df[target_attribute])\n",
    "    print(split_attribute,'IG :',old-new)\n",
    "    return old-new\n",
    "\n",
    "def id3(df,target_attribute,attribute_names,default_class=0):\n",
    "    count = Counter(x for x in df[target_attribute])\n",
    "    if len(count)==1:\n",
    "        return next(iter(count))\n",
    "    elif df.empty or (not attribute_names):\n",
    "        return default_class\n",
    "    else:\n",
    "        gain = [info_gain(df,attr,target_attribute) for attr in attribute_names]\n",
    "        index_of_max = gain.index(max(gain))\n",
    "        best_attr = attribute_names[index_of_max]\n",
    "        tree = {best_attr:{}}\n",
    "        remaining_attr = [i for i in attribute_names if i != best_attr]\n",
    "        \n",
    "        for attr_val,data_subset in df.groupby(best_attr):\n",
    "            subtree = id3(data_subset,target_attribute,remaining_attr,default_class)\n",
    "            tree[best_attr][attr_val] = subtree\n",
    "        return tree\n",
    "    \n",
    "tree = id3(df_tennis,'PlayTennis',attribute_names)\n",
    "print(\"\\n\\nResultant Tree is : \")\n",
    "pprint(tree)"
   ]
  }
 ],
 "metadata": {
  "kernelspec": {
   "display_name": "Python 3 (ipykernel)",
   "language": "python",
   "name": "python3"
  },
  "language_info": {
   "codemirror_mode": {
    "name": "ipython",
    "version": 3
   },
   "file_extension": ".py",
   "mimetype": "text/x-python",
   "name": "python",
   "nbconvert_exporter": "python",
   "pygments_lexer": "ipython3",
   "version": "3.9.13"
  }
 },
 "nbformat": 4,
 "nbformat_minor": 5
}
